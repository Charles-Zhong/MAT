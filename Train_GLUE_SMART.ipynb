{
 "cells": [
  {
   "cell_type": "code",
   "execution_count": null,
   "metadata": {},
   "outputs": [],
   "source": [
    "import torch\n",
    "import preprocess\n",
    "from torch.optim import AdamW\n",
    "from transformers import get_scheduler\n",
    "from tqdm.auto import tqdm"
   ]
  },
  {
   "cell_type": "code",
   "execution_count": null,
   "metadata": {},
   "outputs": [],
   "source": [
    "# 设置任务和模型\n",
    "task_name = \"STS-B\" # [\"CoLA\", \"SST-2\", \"MRPC\", \"STS-B\", \"QQP\", \"MNLI-m\", \"MNLI-mm\", \"QNLI\", \"RTE\", \"WNLI\"]\n",
    "model_name = \"models/bert-base-uncased\" # [bert-base-cased, bert-base-uncased, roberta-base]\n",
    "device = torch.device(\"cuda:0\" if torch.cuda.is_available() else \"cpu\")"
   ]
  },
  {
   "cell_type": "code",
   "execution_count": null,
   "metadata": {},
   "outputs": [],
   "source": [
    "# 设置超参数\n",
    "# 训练参数\n",
    "SEED = 0\n",
    "BATCH_SIZE = 8\n",
    "EPOCH = 10\n",
    "LEARNING_RATE = 1e-5\n",
    "# 对抗训练参数\n",
    "Adv_step = 5\n",
    "Adv_epsilon = 5e-2\n",
    "Adv_max_norm = 0  # 0表示不限制扰动大小\n",
    "Adv_lambda = 1\n",
    "Adv_mu = 1"
   ]
  },
  {
   "cell_type": "code",
   "execution_count": null,
   "metadata": {},
   "outputs": [],
   "source": [
    "model, dataloader, metric= preprocess.preprocess(task_name, model_name, BATCH_SIZE, SEED)\n",
    "train_dataloader,eval_dataloader,test_dataloader = dataloader"
   ]
  },
  {
   "cell_type": "code",
   "execution_count": null,
   "metadata": {},
   "outputs": [],
   "source": [
    "# 设置优化器\n",
    "optimizer = AdamW(model.parameters(), lr=LEARNING_RATE)\n",
    "# [\"linear\", \"cosine\", \"cosine_with_restarts\", \"polynomial\", \"constant\", \"constant_with_warmup\"]\n",
    "lr_scheduler = get_scheduler(name=\"linear\", optimizer=optimizer, num_warmup_steps=0, num_training_steps=EPOCH * len(train_dataloader))"
   ]
  },
  {
   "cell_type": "code",
   "execution_count": null,
   "metadata": {},
   "outputs": [],
   "source": [
    "import torch.nn.functional as F\n",
    "from torch.nn import MSELoss\n",
    "\n",
    "def ls(P, Q, task_type):\n",
    "    if(task_type == \"classification\"):\n",
    "        return F.kl_div(P.softmax(dim=-1).log(), Q.softmax(dim=-1), reduction='sum') + F.kl_div(Q.softmax(dim=-1).log(), P.softmax(dim=-1), reduction='sum')\n",
    "    elif(task_type == \"regression\"):\n",
    "        return MSELoss(P, Q, reduction=\"sum\")\n"
   ]
  },
  {
   "cell_type": "code",
   "execution_count": null,
   "metadata": {},
   "outputs": [],
   "source": [
    "# Training\n",
    "print(\"*\"*20, \"Training\", \"*\"*20)  # 训练参数\n",
    "print(\"TASK:\", task_name)\n",
    "print(\"MODEL:\", model_name)\n",
    "print(\"DEVICE:\", device)\n",
    "print(\"-\"*50)\n",
    "print(\"EPOCH_NUM:\", EPOCH)\n",
    "print(\"BATCH_SIZE:\", BATCH_SIZE)\n",
    "print(\"LEARNING_RATE:\", LEARNING_RATE)\n",
    "print(\"=\"*14, \"Adversarial Training\", \"=\"*14)  # 对抗训练参数\n",
    "print(\"Adversarial_Training_type:\",\"SMART\")\n",
    "print(\"Adversarial_step:\", Adv_step)\n",
    "print(\"Adversarial_epsilon:\", Adv_epsilon)\n",
    "print(\"Adversarial_max_norm:\", Adv_max_norm)\n",
    "print(\"*\"*50)\n",
    "model.to(device)\n",
    "progress_bar = tqdm(range(EPOCH * len(train_dataloader)))\n",
    "for i in range(EPOCH):\n",
    "    print(\"-\"*20, \"EPOCH:\", i, \"-\"*20)\n",
    "    print(\"Training...\")\n",
    "    model.train()\n",
    "    for batch in train_dataloader:\n",
    "        for t in batch:\n",
    "            batch[t] = batch[t].to(device)\n",
    "        \n",
    "        # [begin] Adversarial Training\n",
    "        # 1.get L-loss\n",
    "        L_outputs=model(**batch)\n",
    "        L_loss = L_outputs.loss\n",
    "\n",
    "        # 2.get R-loss\n",
    "\n",
    "\n",
    "        R_loss = ls(R_outputs, L_outputs, task_type = tasktype)\n",
    "\n",
    "        # 3.get D-loss\n",
    "        \n",
    "        \n",
    "        D_loss = ls(L_outputs, D_outputs, task_type = tasktype)\n",
    "\n",
    "        # 4.optimize model parameters\n",
    "        loss = L_loss + Adv_lambda * R_loss + Adv_mu * D_loss\n",
    "        loss.backward()\n",
    "        optimizer.step()\n",
    "        lr_scheduler.step()\n",
    "        optimizer.zero_grad()\n",
    "        progress_bar.update(1)\n",
    "        # [end] Adversarial Training\n",
    "\n",
    "    print(\"Eval...\")\n",
    "    model.eval()\n",
    "    for batch in eval_dataloader:\n",
    "        for t in batch:\n",
    "            batch[t] = batch[t].to(device)\n",
    "        with torch.no_grad():\n",
    "            outputs = model(**batch)\n",
    "        predictions = outputs.logits.argmax(dim=-1) if task_name != \"STS-B\" else outputs.logits.squeeze()\n",
    "        metric.add_batch(predictions=predictions, references=batch[\"labels\"])\n",
    "    print(\"Metric:\", metric.compute())\n",
    "    print(\"-\"*50)\n"
   ]
  }
 ],
 "metadata": {
  "language_info": {
   "name": "python"
  },
  "orig_nbformat": 4
 },
 "nbformat": 4,
 "nbformat_minor": 2
}
