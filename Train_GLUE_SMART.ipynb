{
 "cells": [
  {
   "cell_type": "code",
   "execution_count": null,
   "metadata": {},
   "outputs": [],
   "source": [
    "import torch\n",
    "import preprocess\n",
    "from torch.optim import AdamW\n",
    "from transformers import get_scheduler\n",
    "from tqdm.auto import tqdm"
   ]
  },
  {
   "cell_type": "code",
   "execution_count": null,
   "metadata": {},
   "outputs": [],
   "source": [
    "# 设置任务和模型\n",
    "task_name = \"STS-B\" # [\"CoLA\", \"SST-2\", \"MRPC\", \"STS-B\", \"QQP\", \"MNLI-m\", \"MNLI-mm\", \"QNLI\", \"RTE\", \"WNLI\"]\n",
    "model_name = \"models/bert-base-uncased\" # [bert-base-cased, bert-base-uncased, roberta-base]\n",
    "device = torch.device(\"cuda:0\" if torch.cuda.is_available() else \"cpu\")"
   ]
  },
  {
   "cell_type": "code",
   "execution_count": null,
   "metadata": {},
   "outputs": [],
   "source": [
    "# 设置超参数\n",
    "# 训练参数\n",
    "SEED = 0\n",
    "BATCH_SIZE = 8\n",
    "EPOCH = 10\n",
    "LEARNING_RATE = 1e-5\n",
    "# 对抗训练参数\n",
    "Adv_step = 5\n",
    "Adv_epsilon = 5e-2\n",
    "Adv_max_norm = 0  # 0表示不限制扰动大小"
   ]
  },
  {
   "cell_type": "code",
   "execution_count": null,
   "metadata": {},
   "outputs": [],
   "source": [
    "model, dataloader, metric= preprocess.preprocess(task_name, model_name, BATCH_SIZE, SEED)\n",
    "train_dataloader,eval_dataloader,test_dataloader = dataloader"
   ]
  },
  {
   "cell_type": "code",
   "execution_count": null,
   "metadata": {},
   "outputs": [],
   "source": [
    "# 设置优化器\n"
   ]
  },
  {
   "cell_type": "code",
   "execution_count": null,
   "metadata": {},
   "outputs": [],
   "source": [
    "# Training\n",
    "print(\"*\"*20, \"Training\", \"*\"*20)  # 训练参数\n",
    "print(\"TASK:\", task_name)\n",
    "print(\"MODEL:\", model_name)\n",
    "print(\"DEVICE:\", device)\n",
    "print(\"-\"*50)\n",
    "print(\"EPOCH_NUM:\", EPOCH)\n",
    "print(\"BATCH_SIZE:\", BATCH_SIZE)\n",
    "print(\"LEARNING_RATE:\", LEARNING_RATE)\n",
    "print(\"=\"*14, \"Adversarial Training\", \"=\"*14)  # 对抗训练参数\n",
    "print(\"Adversarial_Training_type:\",\"SMART\")\n",
    "print(\"Adversarial_step:\", Adv_step)\n",
    "print(\"Adversarial_epsilon:\", Adv_epsilon)\n",
    "print(\"Adversarial_max_norm:\", Adv_max_norm)\n",
    "print(\"*\"*50)\n",
    "model.to(device)\n",
    "progress_bar = tqdm(range(EPOCH * len(train_dataloader)))\n",
    "for i in range(EPOCH):\n",
    "    print(\"-\"*20, \"EPOCH:\", i, \"-\"*20)\n",
    "    print(\"Training...\")\n",
    "    model.train()\n",
    "    for batch in train_dataloader:\n",
    "        for t in batch:\n",
    "            batch[t] = batch[t].to(device)\n",
    "\n",
    "        # [begin] Adversarial Training\n",
    "        # 1.init delta\n",
    "        if \"bert-base\" in model_name:\n",
    "            word_embedding_init = model.bert.embeddings.word_embeddings(batch[\"input_ids\"])\n",
    "        elif \"roberta-base\" in model_name:\n",
    "            word_embedding_init = model.roberta.embeddings.word_embeddings(batch[\"input_ids\"])\n",
    "        delta = torch.zeros_like(word_embedding_init)\n",
    "        inputs = {\"attention_mask\" : batch[\"attention_mask\"], \"labels\" : batch[\"labels\"], \"token_type_ids\" : batch[\"token_type_ids\"]}\n",
    "        # 模型输入参数: \"attention_mask\",\"labels\",\"token_type_ids\",\"inputs_embeds\"\n",
    "\n",
    "        # 2.update delta\n",
    "        for step in range(Adv_step):\n",
    "            delta.requires_grad = True\n",
    "            word_embedding = word_embedding_init.clone().detach()\n",
    "            inputs[\"inputs_embeds\"] = delta + word_embedding # 「inputs_embeds」和「input_ids」参数二选一，使用添加扰动的「inputs_embeds」\n",
    "            outputs = model(**inputs)\n",
    "            loss = outputs.loss / Adv_step\n",
    "            loss.backward()\n",
    "\n",
    "            delta_grad = delta.grad.clone().detach() # delta的梯度\n",
    "            delta_grad_norm = torch.norm(delta_grad.view(delta_grad.size(0), -1), dim=1).view(-1, 1, 1) # .view：摊平  .norm：求L2范数  .view：重新设置shape\n",
    "            delta_grad_norm = torch.clamp(delta_grad_norm, min=1e-8)  # 设置最小值，避免下一步除数为0\n",
    "            delta = (delta + Adv_epsilon * delta_grad / delta_grad_norm).detach()  # 新的扰动 δ = δ + ε * g/||g||\n",
    "\n",
    "            if Adv_max_norm > 0:  # 限制扰动大小  Adv_max_norm = 0 则不限制\n",
    "                delta_norm = torch.norm(delta.view(delta.size(0), -1).float(), p=2, dim=1).detach()\n",
    "                exceed_mask = (delta_norm > Adv_max_norm).to(delta_norm)\n",
    "                if(sum(exceed_mask) != 0):  # 存在超出限制的扰动大小\n",
    "                    reweights = (Adv_max_norm / delta_norm * exceed_mask + (1-exceed_mask)).view(-1, 1, 1) # 缩减比例\n",
    "                    delta = (delta * reweights).detach()  # 按比例缩减到norm-ball内\n",
    "\n",
    "        # 3.optimize model parameters\n",
    "        optimizer.step()\n",
    "        optimizer.zero_grad()\n",
    "        progress_bar.update(1)\n",
    "\n",
    "        # [end] Adversarial Training\n",
    "\n",
    "    print(\"Eval...\")\n",
    "    model.eval()\n",
    "    for batch in eval_dataloader:\n",
    "        for t in batch:\n",
    "            batch[t] = batch[t].to(device)\n",
    "        with torch.no_grad():\n",
    "            outputs = model(**batch)\n",
    "        predictions = outputs.logits.argmax(dim=-1) if task_name != \"STS-B\" else outputs.logits.squeeze()\n",
    "        metric.add_batch(predictions=predictions, references=batch[\"labels\"])\n",
    "    print(\"Metric:\", metric.compute())\n",
    "    print(\"-\"*50)\n"
   ]
  }
 ],
 "metadata": {
  "language_info": {
   "name": "python"
  },
  "orig_nbformat": 4
 },
 "nbformat": 4,
 "nbformat_minor": 2
}
