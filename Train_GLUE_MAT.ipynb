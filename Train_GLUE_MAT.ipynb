{
 "cells": [
  {
   "cell_type": "code",
   "execution_count": 1,
   "metadata": {},
   "outputs": [],
   "source": [
    "import torch\n",
    "import math\n",
    "import preprocess\n",
    "import perturbation\n",
    "from torch.nn import MSELoss\n",
    "import torch.nn.functional as F\n",
    "from tqdm.auto import tqdm"
   ]
  },
  {
   "cell_type": "code",
   "execution_count": 2,
   "metadata": {},
   "outputs": [],
   "source": [
    "# 设置任务和模型\n",
    "task_name = \"SST-2\" # [\"CoLA\", \"SST-2\", \"MRPC\", \"STS-B\", \"QQP\", \"MNLI-m\", \"MNLI-mm\", \"QNLI\", \"RTE\", \"WNLI\"]\n",
    "model_name = \"models/bert-base-uncased\" # [bert-base-uncased, roberta-base]\n",
    "device = torch.device(\"cuda:0\" if torch.cuda.is_available() else \"cpu\")"
   ]
  },
  {
   "cell_type": "code",
   "execution_count": 3,
   "metadata": {},
   "outputs": [],
   "source": [
    "# 设置超参数\n",
    "# 训练参数\n",
    "SEED = 42\n",
    "BATCH_SIZE = 32\n",
    "EPOCH = 3\n",
    "# 对抗训练参数\n",
    "Adv_epsilon = 1e-3 # 初始化扰动\n",
    "Adv_init_type = \"zero\" # [\"zero\",\"rand\",\"randn\"]\n",
    "lambda_s = 1\n",
    "beta = 0\n",
    "sampling_times = 10\n",
    "sampling_epsilon = 0\n",
    "sampling_step = 3e-5"
   ]
  },
  {
   "cell_type": "code",
   "execution_count": 4,
   "metadata": {},
   "outputs": [
    {
     "name": "stderr",
     "output_type": "stream",
     "text": [
      "Reusing dataset glue (/home/ailab/.cache/huggingface/datasets/glue/sst2/1.0.0/dacbe3125aa31d7f70367a07a8a9e72a5a0bfeb5fc42e75c9db75b96da6053ad)\n"
     ]
    },
    {
     "name": "stdout",
     "output_type": "stream",
     "text": [
      "------------------ load dataset ------------------\n",
      "[Notice]: loading dataset...\n"
     ]
    },
    {
     "data": {
      "application/vnd.jupyter.widget-view+json": {
       "model_id": "4b7dc9aff9554a6c803b2f54954b8741",
       "version_major": 2,
       "version_minor": 0
      },
      "text/plain": [
       "  0%|          | 0/3 [00:00<?, ?it/s]"
      ]
     },
     "metadata": {},
     "output_type": "display_data"
    },
    {
     "name": "stdout",
     "output_type": "stream",
     "text": [
      "[Notice]: dataset sst2 loaded.\n",
      "--------------------------------------------------\n",
      "------------ load tokenizer and model ------------\n",
      "[Notice]: loading tokenizer and model...\n"
     ]
    },
    {
     "name": "stderr",
     "output_type": "stream",
     "text": [
      "Some weights of the model checkpoint at models/bert-base-uncased were not used when initializing BertForSequenceClassification: ['cls.predictions.transform.LayerNorm.weight', 'cls.predictions.transform.dense.bias', 'cls.predictions.bias', 'cls.predictions.decoder.weight', 'cls.seq_relationship.bias', 'cls.seq_relationship.weight', 'cls.predictions.transform.LayerNorm.bias', 'cls.predictions.transform.dense.weight']\n",
      "- This IS expected if you are initializing BertForSequenceClassification from the checkpoint of a model trained on another task or with another architecture (e.g. initializing a BertForSequenceClassification model from a BertForPreTraining model).\n",
      "- This IS NOT expected if you are initializing BertForSequenceClassification from the checkpoint of a model that you expect to be exactly identical (initializing a BertForSequenceClassification model from a BertForSequenceClassification model).\n",
      "Some weights of BertForSequenceClassification were not initialized from the model checkpoint at models/bert-base-uncased and are newly initialized: ['classifier.bias', 'classifier.weight']\n",
      "You should probably TRAIN this model on a down-stream task to be able to use it for predictions and inference.\n",
      "Loading cached processed dataset at /home/ailab/.cache/huggingface/datasets/glue/sst2/1.0.0/dacbe3125aa31d7f70367a07a8a9e72a5a0bfeb5fc42e75c9db75b96da6053ad/cache-05a66768d2a80c25.arrow\n",
      "Loading cached processed dataset at /home/ailab/.cache/huggingface/datasets/glue/sst2/1.0.0/dacbe3125aa31d7f70367a07a8a9e72a5a0bfeb5fc42e75c9db75b96da6053ad/cache-5ab7c047d4fd4ff8.arrow\n",
      "Loading cached processed dataset at /home/ailab/.cache/huggingface/datasets/glue/sst2/1.0.0/dacbe3125aa31d7f70367a07a8a9e72a5a0bfeb5fc42e75c9db75b96da6053ad/cache-303f9218f401490d.arrow\n"
     ]
    },
    {
     "name": "stdout",
     "output_type": "stream",
     "text": [
      "[Notice]: tokenizer and model loaded.\n",
      "--------------------------------------------------\n",
      "------------- tokenize the dataset -------------\n",
      "[Notice]: tokenizing the dataset...\n",
      "[Notice]: the dataset is tokenized.\n",
      "--------------------------------------------------\n",
      "----------------- make dataloader ------------------\n",
      "[Notice]: making dataloader...\n",
      "[Notice]: make dataloader is done.\n",
      "--------------------------------------------------\n"
     ]
    }
   ],
   "source": [
    "model, dataloader, metric= preprocess.preprocess(task_name, model_name, BATCH_SIZE, SEED)\n",
    "train_dataloader,eval_dataloader,test_dataloader = dataloader"
   ]
  },
  {
   "cell_type": "code",
   "execution_count": 5,
   "metadata": {},
   "outputs": [],
   "source": [
    "def ls(P, Q):\n",
    "    task_type = \"classification\" if task_name != \"STS-B\" else \"regression\"\n",
    "    if(task_type == \"classification\"):\n",
    "        return F.kl_div(P.softmax(dim=-1).log(), Q.softmax(dim=-1), reduction='batchmean') + F.kl_div(Q.softmax(dim=-1).log(), P.softmax(dim=-1), reduction='batchmean')\n",
    "    elif(task_type == \"regression\"):\n",
    "        return MSELoss(P, Q, reduction=\"sum\")"
   ]
  },
  {
   "cell_type": "code",
   "execution_count": 6,
   "metadata": {},
   "outputs": [],
   "source": [
    "def SGLD(z_data,z_grad,z_size,step,epsilon):\n",
    "    noise = perturbation.init_delta(z_size, epsilon=epsilon, init_type=\"randn\").to(device)\n",
    "    z_data = z_data - step * z_grad + math.sqrt(2 * step) * noise\n",
    "    return z_data"
   ]
  },
  {
   "cell_type": "code",
   "execution_count": 7,
   "metadata": {},
   "outputs": [
    {
     "name": "stdout",
     "output_type": "stream",
     "text": [
      "******************** Training ********************\n",
      "TASK: SST-2\n",
      "MODEL: models/bert-base-uncased\n",
      "DEVICE: cuda:0\n",
      "================ General Training ================\n",
      "EPOCH_NUM: 3\n",
      "BATCH_SIZE: 32\n",
      "============== MAT Training ==============\n",
      "Adversarial_Training_type: MAT\n",
      "lambda_s: 1\n",
      "beta: 0\n",
      "**************************************************\n"
     ]
    },
    {
     "data": {
      "application/vnd.jupyter.widget-view+json": {
       "model_id": "9d1abd6c49914890bca46fa0254e5c33",
       "version_major": 2,
       "version_minor": 0
      },
      "text/plain": [
       "  0%|          | 0/6315 [00:00<?, ?it/s]"
      ]
     },
     "metadata": {},
     "output_type": "display_data"
    },
    {
     "name": "stdout",
     "output_type": "stream",
     "text": [
      "-------------------- EPOCH: 0 --------------------\n",
      "Metric: {'accuracy': 0.8394495412844036}\n",
      "--------------------------------------------------\n",
      "-------------------- EPOCH: 1 --------------------\n",
      "Metric: {'accuracy': 0.8795871559633027}\n",
      "--------------------------------------------------\n",
      "-------------------- EPOCH: 2 --------------------\n",
      "Metric: {'accuracy': 0.8784403669724771}\n",
      "--------------------------------------------------\n",
      "******************* Best Score *******************\n",
      "EPOCH: 1\n",
      "Metric: {'accuracy': 0.8795871559633027}\n",
      "**************************************************\n"
     ]
    }
   ],
   "source": [
    "# Training\n",
    "print(\"*\"*20, \"Training\", \"*\"*20)  # 训练任务\n",
    "print(\"TASK:\", task_name)\n",
    "print(\"MODEL:\", model_name)\n",
    "print(\"DEVICE:\", device)\n",
    "print(\"=\"*16, \"General Training\", \"=\"*16)  # 常规训练参数\n",
    "print(\"EPOCH_NUM:\", EPOCH)\n",
    "print(\"BATCH_SIZE:\", BATCH_SIZE)\n",
    "print(\"=\"*14, \"MAT Training\", \"=\"*14)  # MAT训练参数\n",
    "print(\"Adversarial_Training_type:\", \"MAT\")\n",
    "print(\"lambda_s:\", lambda_s)\n",
    "print(\"beta:\", beta)\n",
    "print(\"*\"*50)\n",
    "model.to(device)\n",
    "progress_bar = tqdm(range(EPOCH * len(train_dataloader)))\n",
    "eval_metric_list = []\n",
    "for i in range(EPOCH):\n",
    "    print(\"-\"*20, \"EPOCH:\", i, \"-\"*20)\n",
    "    print(\"Training...\", end='')\n",
    "    model.train()\n",
    "\n",
    "    for batch in train_dataloader:\n",
    "        for t in batch:\n",
    "            batch[t] = batch[t].to(device)\n",
    "\n",
    "        # [begin] MAT Training\n",
    "        # 1.init delta & inputs\n",
    "        ## 1.1 获得batch的word_embedding\n",
    "        if \"bert-\" in model_name:\n",
    "            word_embedding = model.bert.embeddings.word_embeddings(batch[\"input_ids\"])\n",
    "        elif \"roberta-\" in model_name:\n",
    "            word_embedding = model.roberta.embeddings.word_embeddings(batch[\"input_ids\"])\n",
    "        \n",
    "        ## 1.2 初始化[抽样扰动delta_k]和[分布扰动mean_delta]\n",
    "        delta_k = perturbation.init_delta(word_embedding.size(), epsilon=Adv_epsilon, init_type=Adv_init_type).to(device)\n",
    "        delta_k.requires_grad = True\n",
    "        mean_delta = delta_k  # 初始化delta的分布均值mean_delta\n",
    "\n",
    "        ## 1.3 初始化模型输入inputs\n",
    "        if \"bert-\" in model_name:  # bert模型输入inputs: \"attention_mask\",\"labels\",\"token_type_ids\",「inputs_embeds」和「input_ids」参数二选一\n",
    "            inputs = {\"attention_mask\": batch[\"attention_mask\"],\"labels\": batch[\"labels\"], \"token_type_ids\": batch[\"token_type_ids\"]}\n",
    "        elif \"roberta-\" in model_name:  # roberta模型输入inputs: \"attention_mask\",\"labels\",「inputs_embeds」和「input_ids」参数二选一\n",
    "            inputs = {\"attention_mask\": batch[\"attention_mask\"], \"labels\": batch[\"labels\"]}\n",
    "\n",
    "        ## 1.4 备份模型参数\n",
    "        back_parameters = model.parameters()\n",
    "        mean_theta = model.parameters()\n",
    "\n",
    "        # 2.stochastic gradient langevin dynamics sampling\n",
    "        ## 2.1 sampling perturbation (delta)\n",
    "        for k in range(sampling_times):\n",
    "            ### 构造带有扰动的输入\n",
    "            inputs[\"inputs_embeds\"] = delta_k + word_embedding.detach()\n",
    "            ### 前向传播\n",
    "            loss_adv = ls(model(**inputs).logits, model(**batch).logits)\n",
    "            ### 反向传播\n",
    "            loss_adv.backward()\n",
    "            ### SGLD采样\n",
    "            delta_k.data = SGLD(delta_k.data, delta_k.grad.data, delta_k.size(), sampling_step, sampling_epsilon)\n",
    "            delta_k.requires_grad = True\n",
    "            ### 更新扰动的分布均值\n",
    "            mean_delta = beta * mean_delta + (1 - beta) * delta_k\n",
    "        \n",
    "        ## 2.2 sampling model parameters (theta)\n",
    "        for k in range(sampling_times):\n",
    "            ### 清空模型参数的梯度\n",
    "            for p in model.parameters():\n",
    "                p.grad.zero_()\n",
    "            ### 构造带有扰动的输入\n",
    "            inputs[\"inputs_embeds\"] = mean_delta.detach() + word_embedding.detach()\n",
    "            ### 前向传播\n",
    "            loss_sum = model(**batch).loss + lambda_s * ls(model(**inputs).logits, model(**batch).logits)\n",
    "            ### 反向传播\n",
    "            loss_sum.backward()\n",
    "            ### SGLD采样\n",
    "            for p in model.parameters():\n",
    "                p.data = SGLD(p.data, p.grad.data, p.size(), sampling_step, sampling_epsilon)\n",
    "            ### 更新模型参数的分布均值\n",
    "            for p,q in zip(mean_theta, model.parameters()):\n",
    "                p.data = beta * p.data + (1 - beta) * q.data\n",
    "\n",
    "        # 3.update model parameters\n",
    "        for p,q in zip(model.parameters(), back_parameters): # 还原模型参数为上一次迭代\n",
    "            p.data = q.data\n",
    "        for p,q in zip(model.parameters(), mean_theta): # 更新这次迭代的模型参数\n",
    "            p.data = beta * p.data + (1 - beta) * q.data\n",
    "        # [end] MAT Training\n",
    "        progress_bar.update(1)\n",
    "\n",
    "    print(\"\\rEvaling...\", end='')\n",
    "    model.eval()\n",
    "    for batch in eval_dataloader:\n",
    "        for t in batch:\n",
    "            batch[t] = batch[t].to(device)\n",
    "        with torch.no_grad():\n",
    "            outputs = model(**batch)\n",
    "        predictions = outputs.logits.argmax(dim=-1) if task_name != \"STS-B\" else outputs.logits.squeeze()\n",
    "        metric.add_batch(predictions=predictions, references=batch[\"labels\"])\n",
    "    score = metric.compute()\n",
    "    eval_metric_list.append(score)\n",
    "    print(\"\\rMetric:\", score)\n",
    "    print(\"-\"*50)\n",
    "\n",
    "# Best score in eval\n",
    "score_list = []\n",
    "for m in eval_metric_list:\n",
    "    score_list.append(list(m.values())[0])\n",
    "print(\"*\"*19, \"Best Score\", \"*\"*19)\n",
    "print(\"EPOCH:\", score_list.index(max(score_list)))\n",
    "print(\"Metric:\", eval_metric_list[score_list.index(max(score_list))])\n",
    "print(\"*\"*50)\n"
   ]
  }
 ],
 "metadata": {
  "interpreter": {
   "hash": "e7370f93d1d0cde622a1f8e1c04877d8463912d04d973331ad4851f04de6915a"
  },
  "kernelspec": {
   "display_name": "Python 3.8.10 64-bit",
   "language": "python",
   "name": "python3"
  },
  "language_info": {
   "codemirror_mode": {
    "name": "ipython",
    "version": 3
   },
   "file_extension": ".py",
   "mimetype": "text/x-python",
   "name": "python",
   "nbconvert_exporter": "python",
   "pygments_lexer": "ipython3",
   "version": "3.8.10"
  },
  "orig_nbformat": 4
 },
 "nbformat": 4,
 "nbformat_minor": 2
}
